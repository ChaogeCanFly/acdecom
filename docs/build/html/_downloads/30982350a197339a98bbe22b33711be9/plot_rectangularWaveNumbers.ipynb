{
  "cells": [
    {
      "cell_type": "code",
      "execution_count": null,
      "metadata": {
        "collapsed": false
      },
      "outputs": [],
      "source": [
        "%matplotlib inline"
      ]
    },
    {
      "cell_type": "markdown",
      "metadata": {},
      "source": [
        "\nHow to compute wavenumbers in rectangular ducts\n=================================================\n\nIn this example we compute the wavenumbers in rectangular ducts without flow. We compare the (mostly-used)\nKirchoff dissipation, with the model proposed by `Stinson <https://asa.scitation.org/doi/10.1121/1.400379>`_\\.\nThe Kirchoff model was derived for circular ducts and is adapted to rectangular ducts by computing an equivalent\nwetted perimeter with the hydraulic radius. The Stinson model is derived for arbitrary cross sections.\n"
      ]
    },
    {
      "cell_type": "markdown",
      "metadata": {},
      "source": [
        "![](../../image/channel.JPG)\n\n   :width: 800\n\n"
      ]
    },
    {
      "cell_type": "markdown",
      "metadata": {},
      "source": [
        "1. Initialization\n-----------------\nFirst, we import the packages needed for this example.\n\n"
      ]
    },
    {
      "cell_type": "code",
      "execution_count": null,
      "metadata": {
        "collapsed": false
      },
      "outputs": [],
      "source": [
        "import matplotlib.pyplot as plt\nimport numpy\nimport acdecom"
      ]
    },
    {
      "cell_type": "markdown",
      "metadata": {},
      "source": [
        "We create a test duct with a rectangular cross section of the dimensions *a* = 0.01 m and *b* = 0.1 m without\nflow.\n\n"
      ]
    },
    {
      "cell_type": "code",
      "execution_count": null,
      "metadata": {
        "collapsed": false
      },
      "outputs": [],
      "source": [
        "section = \"rectangular\"\na, b = 0.01, 0.1  # [m]\nMach_number = 0"
      ]
    },
    {
      "cell_type": "markdown",
      "metadata": {},
      "source": [
        "We create two *WaveGuides* with the predefined dissipation models *stinson* and *kirchoff*.\n\n"
      ]
    },
    {
      "cell_type": "code",
      "execution_count": null,
      "metadata": {
        "collapsed": false
      },
      "outputs": [],
      "source": [
        "stinson_duct = acdecom.WaveGuide(cross_section=section, dimensions=(a, b), M=Mach_number, damping=\"stinson\")\nkirchoff_duct = acdecom.WaveGuide(cross_section=section, dimensions=(a, b), M=Mach_number, damping=\"kirchoff\")"
      ]
    },
    {
      "cell_type": "markdown",
      "metadata": {},
      "source": [
        "2. Extract the Wavenumbers\n-----------------------\nWe can now loop through the frequencies of interest and compute the wavenumbers for the two WaveGuides.\n\n"
      ]
    },
    {
      "cell_type": "code",
      "execution_count": null,
      "metadata": {
        "collapsed": false
      },
      "outputs": [],
      "source": [
        "wavenumber_stinson=[]\nwavenumber_kirchoff=[]\nfrequencies = range(100,2000,50)\nm, n = 0, 0\nfor f in frequencies:\n    wavenumber_stinson.append(stinson_duct.get_wavenumber(m, n, f))\n    wavenumber_kirchoff.append(kirchoff_duct.get_wavenumber(m, n, f))"
      ]
    },
    {
      "cell_type": "markdown",
      "metadata": {},
      "source": [
        "3. Plot\n----\nWe can plot the imaginary part of the wavenumber, which shows the dissipation of the sound into the\nsurrounding fluid.\n\n"
      ]
    },
    {
      "cell_type": "code",
      "execution_count": null,
      "metadata": {
        "collapsed": false
      },
      "outputs": [],
      "source": [
        "plt.plot(frequencies,numpy.imag(wavenumber_stinson), color=\"#67A3C1\", linestyle=\"-\", label=\"Stinson\")\nplt.plot(frequencies,numpy.imag(wavenumber_kirchoff), color=\"#D38D7B\", linestyle=\"--\", label=\"Kirchoff\")\nplt.legend()\nplt.xlabel(\"Frequency [Hz]\")\nplt.ylabel(\"$Im(k_{00})$\")\nplt.title(\"Comparing the dispersion of Stinson's and Kirchoff's Model \\n for a rectangular duct without flow\")\nplt.show()"
      ]
    },
    {
      "cell_type": "markdown",
      "metadata": {},
      "source": [
        "Additionally, we can compute how strongly a wave propagating along a duct of length *L* is attenuated with the\ndifferent dissipation models.\n\n"
      ]
    },
    {
      "cell_type": "code",
      "execution_count": null,
      "metadata": {
        "collapsed": false
      },
      "outputs": [],
      "source": [
        "L = 10 * b\n\nplt.figure(2)\nplt.plot(frequencies,(1-numpy.exp(numpy.imag(wavenumber_stinson)*L))*100, color=\"#67A3C1\", ls=\"-\", label=\"Stinson\")\nplt.plot(frequencies,(1-numpy.exp(numpy.imag(wavenumber_kirchoff)*L))*100, color=\"#D38D7B\", ls=\"--\", label=\"Kirchoff\")\nplt.xlabel(\"Frequency [Hz]\")\nplt.ylabel(\"Dissipation [%]\")\nplt.title(\"Damping of a wave along a rectangular duct \\n of length \"+str(L)+\" m.\")\nplt.legend()\nplt.show()"
      ]
    }
  ],
  "metadata": {
    "kernelspec": {
      "display_name": "Python 3",
      "language": "python",
      "name": "python3"
    },
    "language_info": {
      "codemirror_mode": {
        "name": "ipython",
        "version": 3
      },
      "file_extension": ".py",
      "mimetype": "text/x-python",
      "name": "python",
      "nbconvert_exporter": "python",
      "pygments_lexer": "ipython3",
      "version": "3.7.2"
    }
  },
  "nbformat": 4,
  "nbformat_minor": 0
}