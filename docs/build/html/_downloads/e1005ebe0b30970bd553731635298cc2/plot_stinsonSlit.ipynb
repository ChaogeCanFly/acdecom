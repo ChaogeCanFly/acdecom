{
  "cells": [
    {
      "cell_type": "code",
      "execution_count": null,
      "metadata": {
        "collapsed": false
      },
      "outputs": [],
      "source": [
        "%matplotlib inline"
      ]
    },
    {
      "cell_type": "markdown",
      "metadata": {},
      "source": [
        "\nHow to define custom wavenumber functions\n===========================================\n\nIn this example we define a custom wavenumber. We inherit from the :class:`.WaveGuide` class and overwrite the internal\n:meth:`.WaveGuide.get_wavenumber` function. By doing so, we have access to the internal class arguments, such as the domain properties.\n"
      ]
    },
    {
      "cell_type": "markdown",
      "metadata": {},
      "source": [
        "![](../../image/wave1.JPG)\n\n   :width: 800\n\n"
      ]
    },
    {
      "cell_type": "markdown",
      "metadata": {},
      "source": [
        "1. Inheritance\n---------------\nFirst, we import the packages needed for the this example.\n\n"
      ]
    },
    {
      "cell_type": "code",
      "execution_count": null,
      "metadata": {
        "collapsed": false
      },
      "outputs": [],
      "source": [
        "import matplotlib.pyplot as plt\nfrom matplotlib import cm\nimport numpy\nimport acdecom"
      ]
    },
    {
      "cell_type": "markdown",
      "metadata": {},
      "source": [
        "We create a new class, that we call \"slit\". We use the *slit* class to define a wavenumber for slit-like\nwaveguides within the plane wave range. We implement Stinson's wavenumber for slits. We inherit from\n*acdecom.testdomain* and overwrite two of the methods, namely :meth:`WaveGuide.get_K0`, which computes the dissipation factor, and\n:meth:`WaveGuide.get_eigenvalue`\\, which computes the Eigenvalue $\\kappa_{m,n}$ that is used to compute the wavenumbers and cut-ons for\nhigher-order modes.\n\n<div class=\"alert alert-danger\"><h4>Warning</h4><p>As the overwritten methods are called by other internal functions, they must have the same positional parameters\n  as their original. Refer to the documentation for more information.</p></div>\n\n"
      ]
    },
    {
      "cell_type": "code",
      "execution_count": null,
      "metadata": {
        "collapsed": false
      },
      "outputs": [],
      "source": [
        "class slit(acdecom.WaveGuide):\n    # We inherit all methods and internal variables from *WaveGuide*\n    def compute_f(self, x, omega, b):\n        return 1 - numpy.tanh(numpy.sqrt(1j * omega * b ** 2 / x)) / numpy.sqrt(1j * omega * b ** 2 / x)\n    def get_K0(self,m,n,f,**kwargs):\n        # here, we overwrite the function to compute the dissipation factor.\n        # We have to use the same  positional parameters as in the original function\n        constants = self.get_domainvalues()\n        mu = constants[\"dynamic_viscosity\"]\n        cp = constants[\"specific_heat\"]\n        kth = constants[\"thermal_conductivity\"]\n        rho = constants[\"density\"]\n        gamma = constants[\"heat_capacity\"]\n        b = self.dimensions[0]/2\n        omega = 2*numpy.pi*f\n        v = mu/rho\n        vp = kth/rho/cp\n        wavenumber = numpy.sqrt(numpy.array(-(gamma - (gamma - 1) * self.compute_f(vp / gamma, omega, b))\n                                            / self.compute_f(v, omega, b), dtype=complex))* -1j\n\n        return wavenumber\n\n    def get_eigenvalue(self, m, n):\n        # here we overwrite the function to compute the eigenvalues for the wavenumbers and cut-ons.\n        return numpy.pi * (m / self.dimensions[0])"
      ]
    },
    {
      "cell_type": "markdown",
      "metadata": {},
      "source": [
        "2. Initialization\n-----------------\nWe create a WaveGuide in slit shape with a dimension of 0.01 m and without flow.\n\n<div class=\"alert alert-info\"><h4>Note</h4><p>We have to leave the *damping* argument empty; otherwise our new *get_K0* function will be overwritten by\n  a predefined function.</p></div>\n\n"
      ]
    },
    {
      "cell_type": "code",
      "execution_count": null,
      "metadata": {
        "collapsed": false
      },
      "outputs": [],
      "source": [
        "slit_width = 0.01  # m\nMach_number = 0\nslit_duct = slit(dimensions=(slit_width,), M=Mach_number)"
      ]
    },
    {
      "cell_type": "markdown",
      "metadata": {},
      "source": [
        "3. Extract the Wavenumbers\n-------------------\nWe can now loop through the frequencies of interest and compute the wavenumbers for the slit\n\n"
      ]
    },
    {
      "cell_type": "code",
      "execution_count": null,
      "metadata": {
        "collapsed": false
      },
      "outputs": [],
      "source": [
        "wavenumber_slit=[]\nfrequencies = range(100,2000,50)\nm, n = 0, 0\n\nfor f in frequencies:\n    wavenumber_slit.append(slit_duct.get_wavenumber(m, n, f))"
      ]
    },
    {
      "cell_type": "markdown",
      "metadata": {},
      "source": [
        "4. Plot\n----\nWe want to compare the wavenumbers of the slit to the wavenumbers of a rectangular duct with different ratios of\nslit length and slit width and plot the results\n\n"
      ]
    },
    {
      "cell_type": "code",
      "execution_count": null,
      "metadata": {
        "collapsed": false
      },
      "outputs": [],
      "source": [
        "ratio_values = [1, 3, 5, 10, 20]\nplt.figure()\ncolors = cm.plasma_r(numpy.linspace(0,1,len(ratio_values)+1))\n\nfor rIndx, ratio in enumerate(ratio_values):\n    rect_duct = acdecom.WaveGuide(cross_section=\"rectangular\", dimensions=(slit_width, slit_width*ratio),\n                                  damping=\"stinson\")\n    wavenumber_rect= []\n    for f in frequencies:\n        wavenumber_rect.append(rect_duct.get_wavenumber(m, n, f))\n\n    plt.plot(frequencies, numpy.imag(wavenumber_rect), color=colors[rIndx], ls=\"--\", label=\"Rect. b/a = \"+str(ratio))\n\nplt.plot(frequencies, numpy.imag(wavenumber_slit), color=colors[-1], label=\"Slit-shape\")\n\nplt.xlabel(\"Frequency [Hz]\")\nplt.ylabel(\"$Im(k_{00})$\")\nplt.title(\"Comparing the dispersion of slit-shaped and \\n  rectangular ducts without flow\")\nplt.legend()\nplt.show()"
      ]
    }
  ],
  "metadata": {
    "kernelspec": {
      "display_name": "Python 3",
      "language": "python",
      "name": "python3"
    },
    "language_info": {
      "codemirror_mode": {
        "name": "ipython",
        "version": 3
      },
      "file_extension": ".py",
      "mimetype": "text/x-python",
      "name": "python",
      "nbconvert_exporter": "python",
      "pygments_lexer": "ipython3",
      "version": "3.7.2"
    }
  },
  "nbformat": 4,
  "nbformat_minor": 0
}