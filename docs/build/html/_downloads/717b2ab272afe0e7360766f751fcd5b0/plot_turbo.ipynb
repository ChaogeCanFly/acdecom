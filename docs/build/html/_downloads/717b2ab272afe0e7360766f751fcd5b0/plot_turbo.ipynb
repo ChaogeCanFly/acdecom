{
  "cells": [
    {
      "cell_type": "code",
      "execution_count": null,
      "metadata": {
        "collapsed": false
      },
      "outputs": [],
      "source": [
        "%matplotlib inline"
      ]
    },
    {
      "cell_type": "markdown",
      "metadata": {},
      "source": [
        "\nThe noise scattering at a compressor inlet and outlet\n==================================================\n\n In this example we extract the scattering of noise at a compressor inlet and outlet. In addition to measuring the\n pressure with flush-mounted microphones, we will use the temperature, and flow velocity that was acquired during the\n measurement. The data comes from a study performed at the\n `Competence Center of Gas Exchange (CCGEx) <https://www.ccgex.kth.se/>`_\\.\n"
      ]
    },
    {
      "cell_type": "markdown",
      "metadata": {},
      "source": [
        "![](../../image/compressor.JPG)\n\n   :width: 800\n\n"
      ]
    },
    {
      "cell_type": "markdown",
      "metadata": {},
      "source": [
        "1. Initialization\n-----------------\nFirst, we import the packages needed for this example.\n\n"
      ]
    },
    {
      "cell_type": "code",
      "execution_count": null,
      "metadata": {
        "collapsed": false
      },
      "outputs": [],
      "source": [
        "import numpy\nimport matplotlib.pyplot as plt\nimport acdecom"
      ]
    },
    {
      "cell_type": "markdown",
      "metadata": {},
      "source": [
        "The compressor intake and outlet have a circular cross section of the radius 0.026 m and 0.028 m.\nThe highest frequency of interest is 3200 Hz.\n\n"
      ]
    },
    {
      "cell_type": "code",
      "execution_count": null,
      "metadata": {
        "collapsed": false
      },
      "outputs": [],
      "source": [
        "section = \"circular\"\nradius_intake = 0.026  # m\nradius_outlet = 0.028  # m\nf_max = 3200  # Hz"
      ]
    },
    {
      "cell_type": "markdown",
      "metadata": {},
      "source": [
        "During the test, test ducts were mounted to the intake and outlet. Those ducts were equipped with three microphones\neach. The first microphone had a distance to the intake of 0.73 m and 1.17 m to the outlet.\n\n"
      ]
    },
    {
      "cell_type": "code",
      "execution_count": null,
      "metadata": {
        "collapsed": false
      },
      "outputs": [],
      "source": [
        "distance_intake = 0.073  # m\ndistance_outlet = 1.17  # m"
      ]
    },
    {
      "cell_type": "markdown",
      "metadata": {},
      "source": [
        "To analyze the measurement data, we create objects for the intake and the outlet test pipes.\n\n"
      ]
    },
    {
      "cell_type": "code",
      "execution_count": null,
      "metadata": {
        "collapsed": false
      },
      "outputs": [],
      "source": [
        "td_intake = acdecom.WaveGuide(dimensions=(radius_intake,), cross_section=section, f_max=f_max, damping=\"kirchoff\",\n                              distance=distance_intake, flip_flow=True)\ntd_outlet = acdecom.WaveGuide(dimensions=(radius_outlet,), cross_section=section, f_max=f_max, damping=\"kirchoff\",\n                              distance=distance_outlet)"
      ]
    },
    {
      "cell_type": "markdown",
      "metadata": {},
      "source": [
        "<div class=\"alert alert-info\"><h4>Note</h4><p>The standard flow direction is in $P_+$ direction. Therefore, on the intake side, the Mach-number must be\n  either set negative or the argument *flipFlow* must be set to *True*.</p></div>\n\n2. Sensor Positions\n-------------------\nWe define lists with microphone positions at the intake and outlet and assign them to the *WaveGuides*.\n\n"
      ]
    },
    {
      "cell_type": "code",
      "execution_count": null,
      "metadata": {
        "collapsed": false
      },
      "outputs": [],
      "source": [
        "z_intake = [0, 0.043, 0.324]  # m\nr_intake = [radius_intake, radius_intake, radius_intake]  # m\nphi_intake = [0, 180, 0]  # deg\n\nz_outlet = [0, 0.054, 0.284]  # m\nr_outlet = [radius_outlet, radius_outlet, radius_outlet]  # m\nphi_outlet = [0, 180, 0] #  deg\n\ntd_intake.set_microphone_positions(z_intake, r_intake, phi_intake, cylindrical_coordinates=True)\ntd_outlet.set_microphone_positions(z_outlet, r_outlet, phi_outlet, cylindrical_coordinates=True)"
      ]
    },
    {
      "cell_type": "markdown",
      "metadata": {},
      "source": [
        "3. Decomposition\n----------------\nNext, we read the measurement data. The measurement must be pre-processed in a format that is understood by the\n*WaveGuide* object. This is generally a numpy.ndArray, wherein the columns contain the measurement data, such\nas the measured frequency, the pressure values for that frequency, the bulk Mach-number, and the temperature.\nThe rows can be different frequencies or different sound excitations (cases). In this example the measurement was\npost-processed into the `turbo.txt <https://github.com/ssackMWL/acdecom/blob/master/examples/data/turbo.txt>`_\nfile and can be loaded with the `numpy.loadtxt <https://numpy.org/doc/stable/reference/generated/numpy.loadtxt.html>`_\nfunction.\n\n<div class=\"alert alert-info\"><h4>Note</h4><p>The pressure used for the decomposition must be pre-processed, for example to account for microphone calibration.</p></div>\n\n"
      ]
    },
    {
      "cell_type": "code",
      "execution_count": null,
      "metadata": {
        "collapsed": false
      },
      "outputs": [],
      "source": [
        "pressure = numpy.loadtxt(\"data/turbo.txt\",dtype=complex, delimiter=\",\", skiprows=1)"
      ]
    },
    {
      "cell_type": "markdown",
      "metadata": {},
      "source": [
        "We review the file's header to understand how the data is stored in our input file.\n\n"
      ]
    },
    {
      "cell_type": "code",
      "execution_count": null,
      "metadata": {
        "collapsed": false
      },
      "outputs": [],
      "source": [
        "with open(\"data/turbo.txt\") as pressure_file:\n    print(pressure_file.readline().split(\",\"))"
      ]
    },
    {
      "cell_type": "markdown",
      "metadata": {},
      "source": [
        "The Mach-numbers at the intake and outlet are stored in columns 0 and 1, the temperatures in columns 2 and 3,\nand the frequency in column 4. The intake microphones (1, 2, and 3) are in columns 5, 6, and 7. The outlet\nmicrophones (3, 5, and 6) are in columns 8, 9, and 10. The case number is in the last column.\n\n"
      ]
    },
    {
      "cell_type": "code",
      "execution_count": null,
      "metadata": {
        "collapsed": false
      },
      "outputs": [],
      "source": [
        "Machnumber_intake = 0\nMachnumber_outlet= 1\ntemperature_intake = 2\ntemperature_outlet = 3\nf = 4\nmics_intake = [5, 6, 7]\nmics_outlet = [8, 9, 10]\ncase = -1"
      ]
    },
    {
      "cell_type": "markdown",
      "metadata": {},
      "source": [
        "Next, we decompose the sound-fields into the propagating modes. We decompose the sound-fields on the intake\nand outlet side of the duct, using the two *WaveGuide* objects defined earlier.\n\n"
      ]
    },
    {
      "cell_type": "code",
      "execution_count": null,
      "metadata": {
        "collapsed": false
      },
      "outputs": [],
      "source": [
        "decomp_intake, headers_intake = td_intake.decompose(pressure, f, mics_intake,  temperature_col=temperature_intake,\n                                                    case_col=case, Mach_col=Machnumber_intake)\n\ndecomp_outlet, headers_outlet = td_outlet.decompose(pressure, f, mics_outlet,  temperature_col=temperature_outlet,\n                                                    case_col=case, Mach_col=Machnumber_outlet)"
      ]
    },
    {
      "cell_type": "markdown",
      "metadata": {},
      "source": [
        ".. note ::\n  The decomposition may show warnings for ill-conditioned modal matrices. This typically happens for frequencies close\n  to the cut-on of a mode. However, it can also indicate that the microphone array is unable to separate the\n  modes. The condition number of the wave decomposition is stored in the data returned by\n  :meth:`.WaveGuide.decompose` and should be checked in case a warning is triggered.\n\n4. Further Post-processing\n--------------------------\n\nWe can print the *headersDS* to see the names of the columns of the arrays that store the decomposed sound fields.\n\n\n"
      ]
    },
    {
      "cell_type": "code",
      "execution_count": null,
      "metadata": {
        "collapsed": false
      },
      "outputs": [],
      "source": [
        "print(headers_intake)"
      ]
    },
    {
      "cell_type": "markdown",
      "metadata": {},
      "source": [
        "We use that information to extract the modal data.\n\n"
      ]
    },
    {
      "cell_type": "code",
      "execution_count": null,
      "metadata": {
        "collapsed": false
      },
      "outputs": [],
      "source": [
        "minusmodes = [1]  # from headers_intake\nplusmodes = [0]"
      ]
    },
    {
      "cell_type": "markdown",
      "metadata": {},
      "source": [
        "Furthermore, we acquire the unique decomposed frequency points.\n\n"
      ]
    },
    {
      "cell_type": "code",
      "execution_count": null,
      "metadata": {
        "collapsed": false
      },
      "outputs": [],
      "source": [
        "frequs = numpy.abs(numpy.unique(decomp_intake[:, headers_intake.index(\"f\")]))\nnof = frequs.shape[0]"
      ]
    },
    {
      "cell_type": "markdown",
      "metadata": {},
      "source": [
        "For each of the frequencies, we can compute the scattering matrix by solving a linear system of equations\n$S = p_+ p_-^{-1}$\\, where $S$ is the scattering matrix and  $p_{\\pm}$ are matrices containing the\nacoustic modes placed in rows and the different test cases placed in columns.\n\n<div class=\"alert alert-info\"><h4>Note</h4><p>Details for the computation of the Scattering Matrix and the procedure to measure the different test-cases can be\n  found in `this study <https://www.ingentaconnect.com/content/dav/aaua/2016/00000102/00000005/art00008>`_\\.</p></div>\n\n\n"
      ]
    },
    {
      "cell_type": "code",
      "execution_count": null,
      "metadata": {
        "collapsed": false
      },
      "outputs": [],
      "source": [
        "S = numpy.zeros((2,2,nof),dtype = complex)\n\nfor fIndx, f in enumerate(frequs):\n    frequ_rows = numpy.where(decomp_intake[:, headers_intake.index(\"f\")] == f)\n    ppm_intake = decomp_intake[frequ_rows]\n    ppm_outlet = decomp_outlet[frequ_rows]\n    pp = numpy.concatenate((ppm_intake[:,plusmodes].T, ppm_outlet[:,plusmodes].T))\n    pm = numpy.concatenate((ppm_intake[:,minusmodes].T, ppm_outlet[:,minusmodes].T))\n    S[:,:,fIndx] = numpy.dot(pp,numpy.linalg.pinv(pm))"
      ]
    },
    {
      "cell_type": "markdown",
      "metadata": {},
      "source": [
        "5. Plot\n-------\nFinally, we can plot the transmission and reflection coefficients at the intake and outlet.\n\n"
      ]
    },
    {
      "cell_type": "code",
      "execution_count": null,
      "metadata": {
        "collapsed": false
      },
      "outputs": [],
      "source": [
        "plt.plot(frequs, numpy.abs(S[0, 0, :]), ls=\"-\", color=\"#67A3C1\", label=\"Reflection Intake\")\nplt.plot(frequs, numpy.abs(S[0, 1, :]), ls=\"--\", color=\"#67A3C1\", label=\"Transmission Intake\")\nplt.plot(frequs, numpy.abs(S[1, 1, :]), ls=\"-\", color=\"#D38D7B\", label=\"Reflection Outlet\")\nplt.plot(frequs, numpy.abs(S[1 ,0, :]), ls=\"--\", color=\"#D38D7B\", label=\"Transmission Outlet\")\nplt.xlabel(\"Frequency [Hz]\")\nplt.ylabel(\"Scattering Magnitude\")\nplt.xlim([300,3200])\nplt.ylim([0,1.1])\nplt.legend()\nplt.show()"
      ]
    }
  ],
  "metadata": {
    "kernelspec": {
      "display_name": "Python 3",
      "language": "python",
      "name": "python3"
    },
    "language_info": {
      "codemirror_mode": {
        "name": "ipython",
        "version": 3
      },
      "file_extension": ".py",
      "mimetype": "text/x-python",
      "name": "python",
      "nbconvert_exporter": "python",
      "pygments_lexer": "ipython3",
      "version": "3.7.2"
    }
  },
  "nbformat": 4,
  "nbformat_minor": 0
}