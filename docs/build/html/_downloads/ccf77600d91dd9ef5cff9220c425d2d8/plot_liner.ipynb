{
  "cells": [
    {
      "cell_type": "code",
      "execution_count": null,
      "metadata": {
        "collapsed": false
      },
      "outputs": [],
      "source": [
        "%matplotlib inline"
      ]
    },
    {
      "cell_type": "markdown",
      "metadata": {},
      "source": [
        "\nThe transmission loss (TL) along a duct liner\n==================================================\n\nIn this example we compute the transmission-loss of a duct liner with grazing flow (M=0.25). The data used in this\nexample was part of `this study <https://arc.aiaa.org/doi/abs/10.2514/6.2020-2615>`_\\,\nwhich is referred to here for further details.\n"
      ]
    },
    {
      "cell_type": "markdown",
      "metadata": {},
      "source": [
        "![](../../image/liner.png)\n\n   :width: 800\n\n"
      ]
    },
    {
      "cell_type": "markdown",
      "metadata": {},
      "source": [
        "1. Initialization\n-----------------\nFirst, we import the packages needed for this example.\n\n"
      ]
    },
    {
      "cell_type": "code",
      "execution_count": null,
      "metadata": {
        "collapsed": false
      },
      "outputs": [],
      "source": [
        "import numpy\nimport matplotlib.pyplot as plt\nimport acdecom"
      ]
    },
    {
      "cell_type": "markdown",
      "metadata": {},
      "source": [
        "The liner is mounted along a duct with a rectangular cross section of the dimensions (0.02 m x 0.11 m).\nThe highest frequency of interest is 1000 Hz. The bulk Mach-number is 0.25 and the temperature is 295 Kelvin.\n\n"
      ]
    },
    {
      "cell_type": "code",
      "execution_count": null,
      "metadata": {
        "collapsed": false
      },
      "outputs": [],
      "source": [
        "section = \"rectangular\"\na = 0.02  # m\nb = 0.11  # m\nf_max = 1500  # Hz\nM = 0.25\nt = 295  # Kelvin"
      ]
    },
    {
      "cell_type": "markdown",
      "metadata": {},
      "source": [
        "Test-ducts were mounted to the downstream and upstream side of the liner. Those ducts were equipped with\nthree microphones, each. The first microphone on each side had a distance of 0.21 m to the liner.\n\n"
      ]
    },
    {
      "cell_type": "code",
      "execution_count": null,
      "metadata": {
        "collapsed": false
      },
      "outputs": [],
      "source": [
        "distance_upstream = 0.21  # m\ndistance_downstream = 0.21  # m"
      ]
    },
    {
      "cell_type": "markdown",
      "metadata": {},
      "source": [
        "To analyze the measurement data, we create :class:`.WaveGuide` objects for the upstream and the downstream test ducts.\n\n"
      ]
    },
    {
      "cell_type": "code",
      "execution_count": null,
      "metadata": {
        "collapsed": false
      },
      "outputs": [],
      "source": [
        "td_upstream = acdecom.WaveGuide(dimensions=(a, b), cross_section=section, f_max=f_max, damping=\"stinson\",\n                                distance=distance_upstream, M=M, temperature=t, flip_flow=True)\ntd_downstream = acdecom.WaveGuide(dimensions=(a, b), cross_section=section, f_max=f_max, damping=\"stinson\",\n                                  distance=distance_downstream, M=M, temperature=t)"
      ]
    },
    {
      "cell_type": "markdown",
      "metadata": {},
      "source": [
        "<div class=\"alert alert-info\"><h4>Note</h4><p>The standard flow direction is in $P_+$ direction. Therefore, on the inlet side, the Mach-number must be\n  either set negative or the argument *flipFlow* must be set to *True*.</p></div>\n\n<div class=\"alert alert-info\"><h4>Note</h4><p>We use `Stinson's <https://asa.scitation.org/doi/10.1121/1.400379>`_ model for acoustic dissipation along the pipe.\n  This is more accurate than the model by Kirchoff (which is commonly used). However, it is computationally more\n  expensive.</p></div>\n\n2. Sensor Positions\n-------------------\nWe define lists with microphone positions at the upstream and downstream side and assign them to the *WaveGuides*.\n\n"
      ]
    },
    {
      "cell_type": "code",
      "execution_count": null,
      "metadata": {
        "collapsed": false
      },
      "outputs": [],
      "source": [
        "z_downstream = [0, 0.055, 0.248] # m\nx_downstream = [a/2, a/2, a/2]  # deg\ny_downstream = [0, 0, 0]   # m\n\nz_upstream = [0.249, 0.059, 0]    # m\nx_upstream = [a/2, a/2, a/2]  # deg\ny_upstream = [0, 0, 0]  # m\n\ntd_upstream.set_microphone_positions(z_upstream, x_upstream, y_upstream)\ntd_downstream.set_microphone_positions(z_downstream, x_downstream, y_downstream)"
      ]
    },
    {
      "cell_type": "markdown",
      "metadata": {},
      "source": [
        "3. Decomposition\n----------------\n Next, we read the measurement data. The measurement must be pre-processed in a format that is understood by the\n :class:`.WaveGuide` object. Generally, this is a numpy.ndarray, wherein the columns contain the measurement data,\n such as the measured frequency and the pressures at the microphone locations. The rows can be different frequencies\n or different sound excitations (cases). In this example, the measurement was post-processed into the\n `liner.txt <https://github.com/ssackMWL/acdecom/blob/master/examples/data/liner.txt>`_ file and can\n be loaded with the `numpy.loadtxt <https://numpy.org/doc/stable/reference/generated/numpy.loadtxt.html>`_ function.\n\n<div class=\"alert alert-info\"><h4>Note</h4><p>The pressure used for the decomposition must be pre-processed, fo example to account for microphone calibration if\n  necessary.</p></div>\n\n\n"
      ]
    },
    {
      "cell_type": "code",
      "execution_count": null,
      "metadata": {
        "collapsed": false
      },
      "outputs": [],
      "source": [
        "pressure = numpy.loadtxt(\"data/liner.txt\", dtype=complex, delimiter=\",\", skiprows=1)"
      ]
    },
    {
      "cell_type": "markdown",
      "metadata": {},
      "source": [
        "We examine the file's header to understand how the data is stored in our input file.\n\n"
      ]
    },
    {
      "cell_type": "code",
      "execution_count": null,
      "metadata": {
        "collapsed": false
      },
      "outputs": [],
      "source": [
        "with open(\"data/liner.txt\") as pressurefile:\n    print(pressurefile.readline().split(\",\"))"
      ]
    },
    {
      "cell_type": "markdown",
      "metadata": {},
      "source": [
        "The upstream microphones (1, 2, and 3) are in columns 5, 6, and 7. The Downstream microphones\n(3, 5, and 6) are in columns 8, 9, and 10. The case number is in the last column. All the other columns contain\ninformation that we do not need in this example.\n\n"
      ]
    },
    {
      "cell_type": "code",
      "execution_count": null,
      "metadata": {
        "collapsed": false
      },
      "outputs": [],
      "source": [
        "f = 4\nmics_ds = [18, 19, 20]\nmics_us = [5, 6, 7]\ncase = -1"
      ]
    },
    {
      "cell_type": "markdown",
      "metadata": {},
      "source": [
        "Next, we decompose the sound fields into the propagating modes. We decompose the sound fields on the upstream\nand downstream side of the duct, using the two *WaveGuide* objects defined earlier.\n\n"
      ]
    },
    {
      "cell_type": "code",
      "execution_count": null,
      "metadata": {
        "collapsed": false
      },
      "outputs": [],
      "source": [
        "decomp_us, headers_us = td_upstream.decompose(pressure, f, mics_us, case_col=case)\n\ndecomp_ds, headers_ds = td_downstream.decompose(pressure, f, mics_ds, case_col=case)"
      ]
    },
    {
      "cell_type": "markdown",
      "metadata": {},
      "source": [
        ".. note ::\n  The decomposition may show warnings for ill-conditioned modal matrices. This typically happens for frequencies close\n  to the cut-on of a mode. However, it can also indicate, that the microphone array is unable to separate the\n  modes. The condition number of the wave decomposition is stored in the data returned by\n  :meth:`.WaveGuide.decompose` and should be checked in case a warning is triggered.\n\n4. Further Post-processing\n--------------------------\nWe can print the *headersDS* to see the names of the columns of the arrays that store the decomposed sound fields.\n\n\n"
      ]
    },
    {
      "cell_type": "code",
      "execution_count": null,
      "metadata": {
        "collapsed": false
      },
      "outputs": [],
      "source": [
        "print(headers_us)"
      ]
    },
    {
      "cell_type": "markdown",
      "metadata": {},
      "source": [
        "We use that information to extract the modal data.\n\n"
      ]
    },
    {
      "cell_type": "code",
      "execution_count": null,
      "metadata": {
        "collapsed": false
      },
      "outputs": [],
      "source": [
        "minusmodes = [1]  # from headers_us\nplusmodes = [0]"
      ]
    },
    {
      "cell_type": "markdown",
      "metadata": {},
      "source": [
        "Furthermore, we can get the unique decomposed frequency points.\n\n"
      ]
    },
    {
      "cell_type": "code",
      "execution_count": null,
      "metadata": {
        "collapsed": false
      },
      "outputs": [],
      "source": [
        "frequs = numpy.abs(numpy.unique(decomp_us[:, headers_us.index(\"f\")]))\nnof = frequs.shape[0]"
      ]
    },
    {
      "cell_type": "markdown",
      "metadata": {},
      "source": [
        "For each of the frequencies, we can compute the scattering matrix by solving a linear system of equations\n$S = p_+ p_-^{-1}$, where $S$ is the scattering matrix and  $p_{\\pm}$ are matrices containing the\nacoustic modes placed in rows and the different test cases placed in columns.\n\n<div class=\"alert alert-info\"><h4>Note</h4><p>Details for the computation of the Scattering Matrix and the procedure to measure the different test-cases can be\n  found in `this study <https://www.ingentaconnect.com/content/dav/aaua/2016/00000102/00000005/art00008>`_\\.</p></div>\n\n\n"
      ]
    },
    {
      "cell_type": "code",
      "execution_count": null,
      "metadata": {
        "collapsed": false
      },
      "outputs": [],
      "source": [
        "S = numpy.zeros((2,2,nof),dtype = complex)\n\nfor fIndx, f in enumerate(frequs):\n    frequ_rows = numpy.where(decomp_us[:, headers_us.index(\"f\")] == f)\n    ppm_us = decomp_us[frequ_rows]\n    ppm_ds = decomp_ds[frequ_rows]\n    pp = numpy.concatenate((ppm_us[:,plusmodes].T, ppm_ds[:,plusmodes].T))\n    pm = numpy.concatenate((ppm_us[:,minusmodes].T, ppm_ds[:,minusmodes].T))\n    S[:,:,fIndx] = numpy.dot(pp, numpy.linalg.pinv(pm))"
      ]
    },
    {
      "cell_type": "markdown",
      "metadata": {},
      "source": [
        "5. Plot\n-------\nWe can plot the transmission and reflection coefficients at the upstream and downstream sides.\n\n"
      ]
    },
    {
      "cell_type": "code",
      "execution_count": null,
      "metadata": {
        "collapsed": false
      },
      "outputs": [],
      "source": [
        "plt.plot(frequs, numpy.abs(S[0, 0, :]), ls=\"-\", color=\"#67A3C1\", label=\"Reflection Upstream\")\nplt.plot(frequs, numpy.abs(S[1, 0, :]), ls=\"--\", color=\"#67A3C1\", label=\"Transmission Upstream\")\nplt.plot(frequs, numpy.abs(S[1, 1, :]), ls=\"-\", color=\"#D38D7B\", label=\"Reflection Downstream\")\nplt.plot(frequs, numpy.abs(S[0, 1, :]), ls=\"--\", color=\"#D38D7B\", label=\"Transmission Downstream\")\nplt.xlabel(\"Frequency [Hz]\")\nplt.ylabel(\"Scattering Magnitude\")\nplt.xlim([100,1600])\n#plt.ylim([0,1.1])\nplt.legend()\nplt.show()"
      ]
    },
    {
      "cell_type": "markdown",
      "metadata": {},
      "source": [
        "From the scattering matrix, we can compute the transmission loss and the power dissipation of the liner.\n\n"
      ]
    },
    {
      "cell_type": "code",
      "execution_count": null,
      "metadata": {
        "collapsed": false
      },
      "outputs": [],
      "source": [
        "TLUpstream = -10* numpy.log10(numpy.abs(S[1, 0, :]))\nTLDownstream = -10* numpy.log10(numpy.abs(S[0, 1, :]))\n\ndissipation_us = -10* numpy.log10(numpy.sqrt(numpy.square(S[1, 0, :])+numpy.square(S[0, 0, :])))\ndissipation_ds = -10* numpy.log10(numpy.sqrt(numpy.square(S[0, 1, :])+numpy.square(S[1, 1, :])))\n\nplt.plot(frequs, numpy.abs(TLUpstream), ls=\"-\", color=\"#67A3C1\", label=\"Transmission Loss (US)\")\nplt.plot(frequs, numpy.abs(dissipation_us), ls=\"--\", color=\"#67A3C1\", label=\"Dissipation (US)\")\nplt.plot(frequs, numpy.abs(TLDownstream), ls=\"-\", color=\"#D38D7B\", label=\"Transmission Loss (DS)\")\nplt.plot(frequs, numpy.abs(dissipation_ds), ls=\"--\", color=\"#D38D7B\", label=\"Dissipation (DS)\")\nplt.xlabel(\"Frequency [Hz]\")\nplt.ylabel(\"Liner Performance [dB]\")\nplt.xlim([100,1600])\nplt.legend()\nplt.show()"
      ]
    }
  ],
  "metadata": {
    "kernelspec": {
      "display_name": "Python 3",
      "language": "python",
      "name": "python3"
    },
    "language_info": {
      "codemirror_mode": {
        "name": "ipython",
        "version": 3
      },
      "file_extension": ".py",
      "mimetype": "text/x-python",
      "name": "python",
      "nbconvert_exporter": "python",
      "pygments_lexer": "ipython3",
      "version": "3.7.2"
    }
  },
  "nbformat": 4,
  "nbformat_minor": 0
}