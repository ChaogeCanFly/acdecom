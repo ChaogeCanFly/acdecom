{
  "cells": [
    {
      "cell_type": "code",
      "execution_count": null,
      "metadata": {
        "collapsed": false
      },
      "outputs": [],
      "source": [
        "%matplotlib inline"
      ]
    },
    {
      "cell_type": "markdown",
      "metadata": {},
      "source": [
        "\nHow to post-process simulation data\n==================================================\n\nIn this example we compute the scattering through an orifice plate in a circular duct with flow. The data is extracted\nfrom two Comsol Multiphysics simulations with a similar setup as in\n`this study <https://www.sciencedirect.com/science/article/abs/pii/S0022460X17306752?via%3Dihub>`\\.\nThe geometry is the same as in `this study <https://www.sciencedirect.com/science/article/abs/pii/S0022460X09002995>`\\.\n"
      ]
    },
    {
      "cell_type": "markdown",
      "metadata": {},
      "source": [
        "![](orifice.png)\n\n   :width: 800\n\n1. Initialization\n-----------------\nFirst, we import the packages needed for this example.\n\n"
      ]
    },
    {
      "cell_type": "code",
      "execution_count": null,
      "metadata": {
        "collapsed": false
      },
      "outputs": [],
      "source": [
        "import numpy\nimport matplotlib.pyplot as plt\nimport acdecom"
      ]
    },
    {
      "cell_type": "markdown",
      "metadata": {},
      "source": [
        "The orifice is mounted inside a circular test duct with a radius of 15 mm.\nThe highest frequency of interest is 4000 Hz. The bulk Mach-number is 0.042 and the temperature is 295 Kelvin.\n\n"
      ]
    },
    {
      "cell_type": "code",
      "execution_count": null,
      "metadata": {
        "collapsed": false
      },
      "outputs": [],
      "source": [
        "section = \"circular\"\nr = 0.015  # m\nf_max = 4000  # Hz\nM = 0.042\nt = 295  # Kelvin"
      ]
    },
    {
      "cell_type": "markdown",
      "metadata": {},
      "source": [
        "The graphic in the beginning of this examples shows a snapshot of the pressure field from the simulation.\nThe \"bubbles\" downstream from the orifice plate are the vortex shed by the acoustic field. When we setup the\ndecomposition domain, we want to be outside the shedding region, to avoid detecting *artificial modes* that do not\nbelong to the acoustic field. Therefore, we will only use pressure values that are at least 10 duct diameters away\nfrom the orifice.\n\n"
      ]
    },
    {
      "cell_type": "code",
      "execution_count": null,
      "metadata": {
        "collapsed": false
      },
      "outputs": [],
      "source": [
        "distance = 20.*r  # m"
      ]
    },
    {
      "cell_type": "markdown",
      "metadata": {},
      "source": [
        "To analyze the measurement data, we create objects for the US and the DS test ducts.\n\n"
      ]
    },
    {
      "cell_type": "code",
      "execution_count": null,
      "metadata": {
        "collapsed": false
      },
      "outputs": [],
      "source": [
        "td_US = acdecom.WaveGuide(dimensions=(r, ), cross_section=section, f_max=f_max, damping=\"no\",\n                          M=M, temperature=t, flip_flow=True)\ntd_DS = acdecom.WaveGuide(dimensions=(r, ), cross_section=section, f_max=f_max, damping=\"no\",\n                          M=M, temperature=t)"
      ]
    },
    {
      "cell_type": "markdown",
      "metadata": {},
      "source": [
        "<div class=\"alert alert-info\"><h4>Note</h4><p>The standard flow direction is in $P_+$ direction. On the inlet side, the Mach-number therefore must be\n   either set negative or the argument *flipFlow* must be set to *True*.</p></div>\n<div class=\"alert alert-info\"><h4>Note</h4><p>We use *no* dissipation model. In the numerical simulation, we have turned off the boundary layer effects and we\n   do not need to take them into account for our post-processing.</p></div>\n\n"
      ]
    },
    {
      "cell_type": "markdown",
      "metadata": {},
      "source": [
        "2. Data Preparation\n-------------------\nWe will post-process the direct data output using Comsol Multiphysics. The solution is two-dimensional and\naxi-symmetric. Using Comsol, we exported the two files *comsolOrificeCase1.txt* and *comsolOrificeCase2.txt*. They contain\nthe same geometry. However, the orifice was either excited with an acoustic plane wave from the upstream direction\nor from the downstream direction. We will post-process both files in order to extract the sound scattering in both\ndirections.\n\nFirst, we print the header of the files to get a cleaner view of their structure.\n\n"
      ]
    },
    {
      "cell_type": "code",
      "execution_count": null,
      "metadata": {
        "collapsed": false
      },
      "outputs": [],
      "source": [
        "with open(\"data/comsolOrifice1.txt\",\"r\") as pressurefile:\n    for i in range(11):\n        print(pressurefile.readline())"
      ]
    },
    {
      "cell_type": "markdown",
      "metadata": {},
      "source": [
        "There are a few header lines starting with *%*, followed by the pressure data for different frequencies.\nThe first and second columns are the r and z coordinates of the grid points. The remaining columns hold the pressure\nat those positions for different frequencies. The frequencies range from 500 Hz to 4000 Hz in steps of 50 Hz.\nWe can create variables that will be useful later in the study.\n\n"
      ]
    },
    {
      "cell_type": "code",
      "execution_count": null,
      "metadata": {
        "collapsed": false
      },
      "outputs": [],
      "source": [
        "z_col = 1\nr_col = 0\nf = numpy.arange(500,4001,50)\nheader = \"%\""
      ]
    },
    {
      "cell_type": "markdown",
      "metadata": {},
      "source": [
        "<div class=\"alert alert-info\"><h4>Note</h4><p>There is no column for the circumferential coordinate. The reason is, that we did a two dimensional, axi-symmetric\n  simulation that does not require a circumferential coordinate.</p></div>\n\nWe read both simulation files.\n\n"
      ]
    },
    {
      "cell_type": "code",
      "execution_count": null,
      "metadata": {
        "collapsed": false
      },
      "outputs": [],
      "source": [
        "pressure_1 = numpy.loadtxt(\"data/comsolOrifice1.txt\", dtype=complex, comments=header)\npressure_2 = numpy.loadtxt(\"data/comsolOrifice2.txt\", dtype=complex, comments=header)"
      ]
    },
    {
      "cell_type": "markdown",
      "metadata": {},
      "source": [
        "We delete all positions that are too close to the orifice plate. Furthermore, we split the simulation in\nupstream (*negative z*) and downstream (*positive z*) sides.\n\n"
      ]
    },
    {
      "cell_type": "code",
      "execution_count": null,
      "metadata": {
        "collapsed": false
      },
      "outputs": [],
      "source": [
        "pressure_1us = pressure_1[pressure_1[:, z_col] < -distance, :]\npressure_1ds = pressure_1[pressure_1[:, z_col] > distance, :]\n\npressure_2us = pressure_2[pressure_2[:, z_col] < -distance, :]\npressure_2ds = pressure_2[pressure_2[:, z_col] > distance, :]"
      ]
    },
    {
      "cell_type": "markdown",
      "metadata": {},
      "source": [
        "We can check how many grid points we have on the upstream and the downstream side.\n\n"
      ]
    },
    {
      "cell_type": "code",
      "execution_count": null,
      "metadata": {
        "collapsed": false
      },
      "outputs": [],
      "source": [
        "print(\"Probes on US side \", pressure_1us.shape[0], \". Probes on DS side: \", pressure_1ds.shape[0])"
      ]
    },
    {
      "cell_type": "markdown",
      "metadata": {},
      "source": [
        "Generally, we can use all grid points for post processing. However, this is not the best method\nif we have a large grid with many points. Instead, we will use a random choice of points.\n\n"
      ]
    },
    {
      "cell_type": "code",
      "execution_count": null,
      "metadata": {
        "collapsed": false
      },
      "outputs": [],
      "source": [
        "number_of_probes = 100\nmics_rows_US = numpy.random.choice(pressure_1us.shape[0], size=number_of_probes, replace=False)\nmics_rows_DS = numpy.random.choice(pressure_1ds.shape[0], size=number_of_probes, replace=False)"
      ]
    },
    {
      "cell_type": "markdown",
      "metadata": {},
      "source": [
        "We extract the coordinates of the random grid points.\n\n"
      ]
    },
    {
      "cell_type": "code",
      "execution_count": null,
      "metadata": {
        "collapsed": false
      },
      "outputs": [],
      "source": [
        "z_DS = numpy.abs(pressure_1ds[mics_rows_DS, z_col])  # m\nr_DS = numpy.abs(pressure_1ds[mics_rows_DS, r_col])   # m\nphi_DS = numpy.zeros((number_of_probes, ))  # deg\n\nz_US = numpy.abs(pressure_1us[mics_rows_US, z_col])  # m\nr_US = numpy.abs(pressure_1us[mics_rows_US, r_col])   # m\nphi_US = numpy.zeros((number_of_probes, ))  # deg"
      ]
    },
    {
      "cell_type": "markdown",
      "metadata": {},
      "source": [
        "We assign the random grid points as microphones to the object.\n\n"
      ]
    },
    {
      "cell_type": "code",
      "execution_count": null,
      "metadata": {
        "collapsed": false
      },
      "outputs": [],
      "source": [
        "td_US.set_microphone_positions(z_US, r_US, phi_US)\ntd_DS.set_microphone_positions(z_DS, r_DS, phi_DS)"
      ]
    },
    {
      "cell_type": "markdown",
      "metadata": {},
      "source": [
        "In order to decompose the simulation data, we must express it in a format that can be processed by\n:meth:`.WaveGuide.decompose`.\n\nFirst, we remove all grid points except the random points that we have chosen for the decomposition. Furthermore,\nwe remove the two columns that contain the coordinates of the grid points.\n\n"
      ]
    },
    {
      "cell_type": "code",
      "execution_count": null,
      "metadata": {
        "collapsed": false
      },
      "outputs": [],
      "source": [
        "pressure_1us = numpy.delete(pressure_1us[mics_rows_US, :], [z_col,r_col], axis=1)\npressure_1ds = numpy.delete(pressure_1ds[mics_rows_DS, :], [z_col,r_col], axis=1)\n\npressure_2us = numpy.delete(pressure_2us[mics_rows_US, :], [z_col,r_col], axis=1)\npressure_2ds = numpy.delete(pressure_2ds[mics_rows_DS, :], [z_col,r_col], axis=1)"
      ]
    },
    {
      "cell_type": "markdown",
      "metadata": {},
      "source": [
        "Next, we add a new row that contains the frequencies (similar to the line in the header of our file), and one\nmore that contains the test case number. This row is has the value *0* for case 1, and *1* for case 2.\nSubsequently, we transpose the array, to have the data format required by :meth:`.WaveGuide.decompose`.\n\n"
      ]
    },
    {
      "cell_type": "code",
      "execution_count": null,
      "metadata": {
        "collapsed": false
      },
      "outputs": [],
      "source": [
        "pressure_1us = numpy.vstack([pressure_1us, f, numpy.zeros((f.shape[0],))]).T\npressure_2us = numpy.vstack([pressure_2us, f, numpy.ones((f.shape[0],))]).T\n\npressure_1ds = numpy.vstack([pressure_1ds, f, numpy.zeros((f.shape[0],))]).T\npressure_2ds = numpy.vstack([pressure_2ds, f, numpy.ones((f.shape[0],))]).T"
      ]
    },
    {
      "cell_type": "markdown",
      "metadata": {},
      "source": [
        "Finally, we combine the two cases at the upstream and the downstream sides to create two large data sets.\n\n"
      ]
    },
    {
      "cell_type": "code",
      "execution_count": null,
      "metadata": {
        "collapsed": false
      },
      "outputs": [],
      "source": [
        "pressure_US = numpy.vstack([pressure_1us, pressure_2us])\npressure_DS = numpy.vstack([pressure_1ds, pressure_2ds])"
      ]
    },
    {
      "cell_type": "markdown",
      "metadata": {},
      "source": [
        "The pressure at the different grid points is stored in the first *number_of_probes* columns.\nThe frequency is stored in the second last column; and the case number is stored in the last column. We create\nvariables that we will use later in this study.\n\n"
      ]
    },
    {
      "cell_type": "code",
      "execution_count": null,
      "metadata": {
        "collapsed": false
      },
      "outputs": [],
      "source": [
        "mic_col = range(0, number_of_probes)\nfrequ_col = -2\ncase_col = -1"
      ]
    },
    {
      "cell_type": "markdown",
      "metadata": {},
      "source": [
        "3. Decomposition\n----------------\n\nWith the pre-processed data, we can run the decomposition.\n\n"
      ]
    },
    {
      "cell_type": "code",
      "execution_count": null,
      "metadata": {
        "collapsed": false
      },
      "outputs": [],
      "source": [
        "decomp_us, headers_us = td_US.decompose(pressure_US, frequ_col, mic_col, case_col=case_col)\n\ndecomp_DS, headers_DS = td_DS.decompose(pressure_DS, frequ_col, mic_col, case_col=case_col)"
      ]
    },
    {
      "cell_type": "markdown",
      "metadata": {},
      "source": [
        "4. Further Post-processing\n--------------------------\nWe can print the *headersDS* to see the names of the columns of the arrays that store the decomposed sound fields.\n\n"
      ]
    },
    {
      "cell_type": "code",
      "execution_count": null,
      "metadata": {
        "collapsed": false
      },
      "outputs": [],
      "source": [
        "print(headers_us)"
      ]
    },
    {
      "cell_type": "markdown",
      "metadata": {},
      "source": [
        "We use that information to extract the modal data.\n\n"
      ]
    },
    {
      "cell_type": "code",
      "execution_count": null,
      "metadata": {
        "collapsed": false
      },
      "outputs": [],
      "source": [
        "minusmodes = [1]  # from headers_us\nplusmodes = [0]"
      ]
    },
    {
      "cell_type": "markdown",
      "metadata": {},
      "source": [
        "Furthermore, we acquire the unique decomposed frequency points.\n\n"
      ]
    },
    {
      "cell_type": "code",
      "execution_count": null,
      "metadata": {
        "collapsed": false
      },
      "outputs": [],
      "source": [
        "frequs = numpy.abs(numpy.unique(decomp_us[:, headers_us.index(\"f\")]))\nnof = frequs.shape[0]"
      ]
    },
    {
      "cell_type": "markdown",
      "metadata": {},
      "source": [
        "For each of the frequencies we compute the scattering matrix by solving a linear system of equations\n$S = p_+ p_-^{-1}$, wherein $S$ is the scattering matrix and $p_{\\pm}$ are matrices containing the\nacoustic modes that are placed in rows and the different test cases that are placed in columns.\n\n<div class=\"alert alert-info\"><h4>Note</h4><p>Details for the computation of the Scattering Matrix and the procedure to measure the different test-cases can be\n  found in `this study <https://www.ingentaconnect.com/content/dav/aaua/2016/00000102/00000005/art00008>`_\\.</p></div>\n\n"
      ]
    },
    {
      "cell_type": "code",
      "execution_count": null,
      "metadata": {
        "collapsed": false
      },
      "outputs": [],
      "source": [
        "S = numpy.zeros((2,2,nof),dtype = complex)\n\nfor fIndx, f in enumerate(frequs):\n    frequ_rows = numpy.where(decomp_us[:, headers_us.index(\"f\")] == f)\n    ppm_us = decomp_us[frequ_rows]\n    ppm_DS = decomp_DS[frequ_rows]\n    pp = numpy.concatenate((ppm_us[:,plusmodes].T, ppm_DS[:,plusmodes].T))\n    pm = numpy.concatenate((ppm_us[:,minusmodes].T, ppm_DS[:,minusmodes].T))\n    S[:,:,fIndx] = numpy.dot(pp, numpy.linalg.pinv(pm))"
      ]
    },
    {
      "cell_type": "markdown",
      "metadata": {},
      "source": [
        "5. Plot\n-------\nWe can plot the transmission coefficients. Transmission coefficients higher than 1 indicate frequencies where\namplification can occur.\n\n"
      ]
    },
    {
      "cell_type": "code",
      "execution_count": null,
      "metadata": {
        "collapsed": false
      },
      "outputs": [],
      "source": [
        "amplification_us = numpy.abs(S[1, 0, :]) > 1\namplification_ds = numpy.abs(S[0, 1, :]) > 1\n\nplt.hlines(1, frequs[0], frequs[-1], linestyles=\"dashed\", color=\"grey\")\n\nplt.plot(frequs, numpy.abs(S[1, 0, :]),\n         ls=\"-\", color=\"#D38D7B\", alpha=0.5)\nplt.plot(frequs, numpy.abs(S[0, 1, :]),\n         ls=\"-\", color=\"#67A3C1\", alpha=0.5)\n\nplt.plot(frequs[amplification_us], numpy.abs(S[1, 0, amplification_us]),\n         ls=\"-\", color=\"#D38D7B\", label=\"Transmission Upstream\")\nplt.plot(frequs[amplification_ds], numpy.abs(S[0, 1, amplification_ds]),\n         ls=\"-\", color=\"#67A3C1\", label=\"Transmission Downstream\")\n\nplt.xlabel(\"Frequency [Hz]\")\nplt.ylabel(\"Scattering Magnitude\")\nplt.title(\"Sound transmission including absorption and amplification at \\n an orifice plate with flow.\")\n\nplt.legend()\nplt.show()"
      ]
    }
  ],
  "metadata": {
    "kernelspec": {
      "display_name": "Python 3",
      "language": "python",
      "name": "python3"
    },
    "language_info": {
      "codemirror_mode": {
        "name": "ipython",
        "version": 3
      },
      "file_extension": ".py",
      "mimetype": "text/x-python",
      "name": "python",
      "nbconvert_exporter": "python",
      "pygments_lexer": "ipython3",
      "version": "3.7.2"
    }
  },
  "nbformat": 4,
  "nbformat_minor": 0
}